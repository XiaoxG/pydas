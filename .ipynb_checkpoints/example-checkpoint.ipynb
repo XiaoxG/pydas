{
 "cells": [
  {
   "cell_type": "markdown",
   "metadata": {},
   "source": [
    "# SKLOE PyDAS\n",
    "\n",
    "A python package for experiment data analysis (FDAS in Python!).\n",
    "\n",
    "Copyright &copy; 2018\n",
    "\n",
    "**Contributors:**\n",
    "* Zhichao Fang\n",
    "* Xiaoxian Guo\n",
    "\n",
    "## 使用方法\n",
    "*或：*\n",
    "\n",
    "1. `git clone https://github.com/JosephFang/pydas.git`至项目目录\n",
    "2. `import CaseData`\n",
    "\n",
    "*或：*\n",
    "\n",
    "1. `git clone https://github.com/JosephFang/pydas.git` 至本地目录\n",
    "2. 在site-packages添加一个路径文件，如pydas.pth，必须以.pth为后缀，写上保存 pydas.py 的本地所在的目录名称。\n",
    "3. 在编写python脚本时，使用 `from CaseData import *`\n",
    "\n",
    "**Get Started**: example.ipynb\n",
    "\n",
    "**注意事项：**\n",
    "\n",
    "1. 找不到python系统目录，可以使用以下命令查看系统python安装目录：\n",
    "\n",
    "```python\n",
    "import sys\n",
    "sys.path\n",
    "```\n",
    "\n",
    "## 简介\n",
    "\n",
    "基于python3.6环境开发，主要针对FDAS处理后的数据，进行进一步后处理，实现数据读入，数据处理，数据输出。\n",
    "\n",
    "FDAS主要对单个工况数据进行处理，我们希望基于python开发流程化的后处理工具，提高工作效率，并提供python接口，可以实现更多的实时功能。\n",
    "\n",
    "主要应用场景：\n",
    "\n",
    "- 不同工况，同一通道的数据横向对比分析\n",
    "- 标准化的批量报表自动生成\n",
    "- 标准化流程化的数据后处理\n",
    "- 便捷的自定义数据处理\n",
    "- 应用于自动校波、校风\n",
    "\n",
    "...\n",
    "\n",
    "目前程序托管于GitHub，主页为：https://github.com/JosephFang/pydas\n",
    "\n",
    "目前拥有以下功能：\n",
    "\n",
    "1. *.out 文件读入与保存\n",
    "2. 打印文件基本信息到显示屏，txt文本，excel文本 （包括：段数，通道数，采样频率，采样时间，前标定段信息，各个通道单位，通道名，系数，每段数据的采样点数，起止时间等）\n",
    "3. 打印基本统计信息到显示屏，txt文本，excel文本 （包括：最大值，最小值，方差，均值，点数等）\n",
    "4. 输出数据至*.mat文件或*.dat文件\n",
    "5. 通道单位修复 （原out文件通道单位不能超过4个字符）\n",
    "6. 实型值转换\n",
    "7. 数据时域统计分析（高低频分离）（基于Pandas）\n",
    "8. 校波文件读入与数据对其\n",
    "9. 运动数据与加速度自动对其\n",
    "10. 高低频滤波、取平均值\n",
    "\n",
    "系统要求：\n",
    "- Python >= 3.6.3\n",
    "- Pandas >= 0.20.3\n",
    "- Matplotlib >= 2.1.0\n",
    "- Scipy >= 0.19.1\n",
    "- PyFFTW >= 0.10.1（用于fft1d）\n",
    "\n",
    "Windows下强烈推荐使用[Anaconda](https://www.anaconda.com)构建Python科学计算环境。\n",
    "\n",
    "读入数据后，数据类型为pandas.DataFrame，基于pandas库的各种函数均可调用，请发挥你的想象力。\n",
    "\n",
    "Pandas documents: https://pandas.pydata.org\n",
    "\n",
    "后续处理可以应用pywafo开发统计处理模块，包括时域分析，频谱转换，极值预报，统计模型检验，疲劳分析等。\n",
    "\n",
    "强烈推荐WAFO模块（Matlab, Python）: http://www.maths.lth.se/matstat/wafo/\n",
    "\n",
    "更多功能会陆续推出，欢迎大家在Github平台参与代码开发\n",
    "\n",
    "如有任何问题请联系：[xiaoxguo@sjtu.edu.cn](mailto:xiaoxguo@sjtu.edu.cn)\n"
   ]
  },
  {
   "cell_type": "markdown",
   "metadata": {},
   "source": [
    "## 运行环境检测与数据读入"
   ]
  },
  {
   "cell_type": "code",
   "execution_count": 26,
   "metadata": {},
   "outputs": [],
   "source": [
    "# 读入skloe_out库，进行操作\n",
    "from CaseData import *\n",
    "\n",
    "# 导入必要的依赖库\n",
    "import sys\n",
    "import numpy as np\n",
    "import pandas as pd\n",
    "import matplotlib\n",
    "import scipy\n",
    "\n",
    "# this limit maximum numbers of rows\n",
    "pd.set_option('display.max_rows', 10)\n",
    "# 图片显示\n",
    "%matplotlib inline"
   ]
  },
  {
   "cell_type": "code",
   "execution_count": 27,
   "metadata": {},
   "outputs": [
    {
     "name": "stdout",
     "output_type": "stream",
     "text": [
      "Python version 3.7.3 (default, Mar 27 2019, 17:13:21) [MSC v.1915 64 bit (AMD64)]\n",
      "Numpy version 1.16.2\n",
      "Pandas version 0.24.2\n",
      "Matplotlib version 3.0.3\n",
      "Scipy version 1.2.1\n"
     ]
    }
   ],
   "source": [
    "# 检查python 运行环境\n",
    "print('Python version ' + sys.version)\n",
    "print('Numpy version ' + np.__version__)\n",
    "print('Pandas version ' + pd.__version__)\n",
    "print('Matplotlib version ' + matplotlib.__version__)\n",
    "print('Scipy version ' + scipy.__version__)"
   ]
  },
  {
   "cell_type": "code",
   "execution_count": 28,
   "metadata": {},
   "outputs": [
    {
     "name": "stdout",
     "output_type": "stream",
     "text": [
      "Reading file test.out... Done!\n"
     ]
    }
   ],
   "source": [
    "# 读入.out文件\n",
    "case = CaseData('test.out', sseg=1)"
   ]
  },
  {
   "cell_type": "markdown",
   "metadata": {},
   "source": [
    "基本读入命令：\n",
    "```python\n",
    "case = CaseData('XXXX.out', sseg=1)\n",
    "```\n",
    "`XXX.out` 为读入文件文件名\n",
    "\n",
    "`sseg` 指定读入的数据段，`sseg`从0开始计数\n",
    "\n",
    "注意：\n",
    "1. 对于直接从采集系统里面出来的out文件，第0段为前标定段，第X段就是我们传统意义的第X段\n",
    "2. 对于已经经过运动合并的数据，有且仅有一段，为第0段，应指定`sseg = 0`"
   ]
  },
  {
   "cell_type": "markdown",
   "metadata": {},
   "source": [
    "## 数据基本信息显示\n",
    "\n",
    "读入out文件后，case可以直接查看一些数据的基本信息，例如："
   ]
  },
  {
   "cell_type": "code",
   "execution_count": 29,
   "metadata": {},
   "outputs": [
    {
     "data": {
      "text/plain": [
       "3"
      ]
     },
     "execution_count": 29,
     "metadata": {},
     "output_type": "execute_result"
    }
   ],
   "source": [
    "# 查看通道数\n",
    "case.chN"
   ]
  },
  {
   "cell_type": "markdown",
   "metadata": {},
   "source": [
    "这种方法，还可以查看以下相关信息：\n",
    "\n",
    "- `case.segN`         数据段数\n",
    "- `case.chN`          通道数\n",
    "- `case.fs`           采样频率\n",
    "- `case.scale`         数据类型 'prototype' or 'model'\n",
    "- `case.lam`          数据缩尺比\n",
    "- `case.filename`       读入数据文件名\n",
    "- `case.date`          数据采样日期 MM-DD\n",
    "- `case.segStatis`      所有通道数据统计值（最大值、最小值、均值、方差）\n",
    "- `case.data`          数据（采用`pandas.dataFrame`格式），分段存储，如访问第一段使用`case.data[0]`\n",
    "- `case.chInfo`        各个通道相关信息（通道号，通道名称，通道单位，通道转换系数）\n",
    "- `case.segInfo`        各个数据段相关信息（段号，各段数据起止时间，采样数，采样时间，备注）"
   ]
  },
  {
   "cell_type": "code",
   "execution_count": 30,
   "metadata": {
    "scrolled": true
   },
   "outputs": [
    {
     "data": {
      "text/html": [
       "<div>\n",
       "<style scoped>\n",
       "    .dataframe tbody tr th:only-of-type {\n",
       "        vertical-align: middle;\n",
       "    }\n",
       "\n",
       "    .dataframe tbody tr th {\n",
       "        vertical-align: top;\n",
       "    }\n",
       "\n",
       "    .dataframe thead th {\n",
       "        text-align: right;\n",
       "    }\n",
       "</style>\n",
       "<table border=\"1\" class=\"dataframe\">\n",
       "  <thead>\n",
       "    <tr style=\"text-align: right;\">\n",
       "      <th></th>\n",
       "      <th>Name</th>\n",
       "      <th>Unit</th>\n",
       "      <th>Coef</th>\n",
       "    </tr>\n",
       "  </thead>\n",
       "  <tbody>\n",
       "    <tr>\n",
       "      <th>1</th>\n",
       "      <td>wave.front</td>\n",
       "      <td>cm</td>\n",
       "      <td>0.000617</td>\n",
       "    </tr>\n",
       "    <tr>\n",
       "      <th>2</th>\n",
       "      <td>wave.center</td>\n",
       "      <td>cm</td>\n",
       "      <td>0.000771</td>\n",
       "    </tr>\n",
       "    <tr>\n",
       "      <th>3</th>\n",
       "      <td>wave.back</td>\n",
       "      <td>cm</td>\n",
       "      <td>0.000908</td>\n",
       "    </tr>\n",
       "  </tbody>\n",
       "</table>\n",
       "</div>"
      ],
      "text/plain": [
       "          Name Unit      Coef\n",
       "1   wave.front   cm  0.000617\n",
       "2  wave.center   cm  0.000771\n",
       "3    wave.back   cm  0.000908"
      ]
     },
     "execution_count": 30,
     "metadata": {},
     "output_type": "execute_result"
    }
   ],
   "source": [
    "# 查看通道信息\n",
    "case.chInfo"
   ]
  },
  {
   "cell_type": "code",
   "execution_count": 31,
   "metadata": {},
   "outputs": [
    {
     "data": {
      "text/html": [
       "<div>\n",
       "<style scoped>\n",
       "    .dataframe tbody tr th:only-of-type {\n",
       "        vertical-align: middle;\n",
       "    }\n",
       "\n",
       "    .dataframe tbody tr th {\n",
       "        vertical-align: top;\n",
       "    }\n",
       "\n",
       "    .dataframe thead th {\n",
       "        text-align: right;\n",
       "    }\n",
       "</style>\n",
       "<table border=\"1\" class=\"dataframe\">\n",
       "  <thead>\n",
       "    <tr style=\"text-align: right;\">\n",
       "      <th></th>\n",
       "      <th>Type</th>\n",
       "      <th>Start</th>\n",
       "      <th>Stop</th>\n",
       "      <th>Duration</th>\n",
       "      <th>N sample</th>\n",
       "      <th>Note</th>\n",
       "    </tr>\n",
       "  </thead>\n",
       "  <tbody>\n",
       "    <tr>\n",
       "      <th>Seg 1</th>\n",
       "      <td>0</td>\n",
       "      <td>13:59:34.0</td>\n",
       "      <td>14:00:14.3</td>\n",
       "      <td>39.7s</td>\n",
       "      <td>7950</td>\n",
       "      <td>1.00s-12.70cm-7.00m-22.00s</td>\n",
       "    </tr>\n",
       "  </tbody>\n",
       "</table>\n",
       "</div>"
      ],
      "text/plain": [
       "       Type       Start        Stop   Duration  N sample  \\\n",
       "Seg 1     0  13:59:34.0  14:00:14.3      39.7s      7950   \n",
       "\n",
       "                             Note  \n",
       "Seg 1  1.00s-12.70cm-7.00m-22.00s  "
      ]
     },
     "execution_count": 31,
     "metadata": {},
     "output_type": "execute_result"
    }
   ],
   "source": [
    "# 查看各个数据段信息\n",
    "case.segInfo"
   ]
  },
  {
   "cell_type": "code",
   "execution_count": 32,
   "metadata": {},
   "outputs": [
    {
     "data": {
      "text/html": [
       "<div>\n",
       "<style scoped>\n",
       "    .dataframe tbody tr th:only-of-type {\n",
       "        vertical-align: middle;\n",
       "    }\n",
       "\n",
       "    .dataframe tbody tr th {\n",
       "        vertical-align: top;\n",
       "    }\n",
       "\n",
       "    .dataframe thead th {\n",
       "        text-align: right;\n",
       "    }\n",
       "</style>\n",
       "<table border=\"1\" class=\"dataframe\">\n",
       "  <thead>\n",
       "    <tr style=\"text-align: right;\">\n",
       "      <th></th>\n",
       "      <th>wave.front</th>\n",
       "      <th>wave.center</th>\n",
       "      <th>wave.back</th>\n",
       "    </tr>\n",
       "  </thead>\n",
       "  <tbody>\n",
       "    <tr>\n",
       "      <th>0</th>\n",
       "      <td>-0.074040</td>\n",
       "      <td>0.038570</td>\n",
       "      <td>-0.010897</td>\n",
       "    </tr>\n",
       "    <tr>\n",
       "      <th>1</th>\n",
       "      <td>-0.052445</td>\n",
       "      <td>0.053998</td>\n",
       "      <td>-0.016346</td>\n",
       "    </tr>\n",
       "    <tr>\n",
       "      <th>2</th>\n",
       "      <td>-0.043190</td>\n",
       "      <td>0.053998</td>\n",
       "      <td>0.003632</td>\n",
       "    </tr>\n",
       "    <tr>\n",
       "      <th>3</th>\n",
       "      <td>-0.035786</td>\n",
       "      <td>0.040113</td>\n",
       "      <td>0.021794</td>\n",
       "    </tr>\n",
       "    <tr>\n",
       "      <th>4</th>\n",
       "      <td>-0.030850</td>\n",
       "      <td>0.023913</td>\n",
       "      <td>0.044497</td>\n",
       "    </tr>\n",
       "  </tbody>\n",
       "</table>\n",
       "</div>"
      ],
      "text/plain": [
       "   wave.front  wave.center  wave.back\n",
       "0   -0.074040     0.038570  -0.010897\n",
       "1   -0.052445     0.053998  -0.016346\n",
       "2   -0.043190     0.053998   0.003632\n",
       "3   -0.035786     0.040113   0.021794\n",
       "4   -0.030850     0.023913   0.044497"
      ]
     },
     "execution_count": 32,
     "metadata": {},
     "output_type": "execute_result"
    }
   ],
   "source": [
    "# 直接查看数据 第0段前5行\n",
    "case.data[0].head(5)"
   ]
  },
  {
   "cell_type": "code",
   "execution_count": 33,
   "metadata": {},
   "outputs": [
    {
     "data": {
      "text/html": [
       "<div>\n",
       "<style scoped>\n",
       "    .dataframe tbody tr th:only-of-type {\n",
       "        vertical-align: middle;\n",
       "    }\n",
       "\n",
       "    .dataframe tbody tr th {\n",
       "        vertical-align: top;\n",
       "    }\n",
       "\n",
       "    .dataframe thead th {\n",
       "        text-align: right;\n",
       "    }\n",
       "</style>\n",
       "<table border=\"1\" class=\"dataframe\">\n",
       "  <thead>\n",
       "    <tr style=\"text-align: right;\">\n",
       "      <th></th>\n",
       "      <th>Mean</th>\n",
       "      <th>STD</th>\n",
       "      <th>Max</th>\n",
       "      <th>Min</th>\n",
       "      <th>Unit</th>\n",
       "    </tr>\n",
       "  </thead>\n",
       "  <tbody>\n",
       "    <tr>\n",
       "      <th>wave.front</th>\n",
       "      <td>-0.070338</td>\n",
       "      <td>1.321586</td>\n",
       "      <td>7.745201</td>\n",
       "      <td>-6.787000</td>\n",
       "      <td>cm</td>\n",
       "    </tr>\n",
       "    <tr>\n",
       "      <th>wave.center</th>\n",
       "      <td>-0.124195</td>\n",
       "      <td>1.438787</td>\n",
       "      <td>8.262465</td>\n",
       "      <td>-7.293587</td>\n",
       "      <td>cm</td>\n",
       "    </tr>\n",
       "    <tr>\n",
       "      <th>wave.back</th>\n",
       "      <td>-0.120777</td>\n",
       "      <td>1.313337</td>\n",
       "      <td>8.137484</td>\n",
       "      <td>-6.610968</td>\n",
       "      <td>cm</td>\n",
       "    </tr>\n",
       "  </tbody>\n",
       "</table>\n",
       "</div>"
      ],
      "text/plain": [
       "                 Mean       STD       Max       Min Unit\n",
       "wave.front  -0.070338  1.321586  7.745201 -6.787000   cm\n",
       "wave.center -0.124195  1.438787  8.262465 -7.293587   cm\n",
       "wave.back   -0.120777  1.313337  8.137484 -6.610968   cm"
      ]
     },
     "execution_count": 33,
     "metadata": {},
     "output_type": "execute_result"
    }
   ],
   "source": [
    "# 查看第0段的统计值信息 \n",
    "case.segStatis[0]"
   ]
  },
  {
   "cell_type": "markdown",
   "metadata": {},
   "source": [
    "## 数据调用相关\n",
    "\n",
    "由于数据采用`pandas.DataFrame`格式，可以十分方便的进行数据引用，行索引为数据点，列索引为通道名\n",
    "\n",
    "数据引用采用以下格式：\n",
    "\n",
    "```python\n",
    "case.data[n]['channel name']\n",
    "```\n",
    "\n",
    "n为第几段数据，后面直接引用通道名即可，通道名部分还可以给`list`，如`['F.line1','wave1']`同时提取多列指定数据，更加丰富的数据索引方法，参见pandas支持文档。\n",
    "\n",
    "基于此，可以直接利用pandas库丰富的内建函数，实现简单的数理统计，以下为一些例子，请发挥你的想象力：\n",
    "\n",
    "pandas documents online:http://pandas.pydata.org/pandas-docs/stable/"
   ]
  },
  {
   "cell_type": "code",
   "execution_count": 34,
   "metadata": {
    "scrolled": true
   },
   "outputs": [
    {
     "data": {
      "text/plain": [
       "wave.front    -0.070272\n",
       "wave.center   -0.124577\n",
       "wave.back     -0.120691\n",
       "dtype: float64"
      ]
     },
     "execution_count": 34,
     "metadata": {},
     "output_type": "execute_result"
    }
   ],
   "source": [
    "#显示第1段数据所有通道平均值 \n",
    "case.data[0].mean()"
   ]
  },
  {
   "cell_type": "code",
   "execution_count": 35,
   "metadata": {
    "scrolled": true
   },
   "outputs": [
    {
     "data": {
      "text/html": [
       "<div>\n",
       "<style scoped>\n",
       "    .dataframe tbody tr th:only-of-type {\n",
       "        vertical-align: middle;\n",
       "    }\n",
       "\n",
       "    .dataframe tbody tr th {\n",
       "        vertical-align: top;\n",
       "    }\n",
       "\n",
       "    .dataframe thead th {\n",
       "        text-align: right;\n",
       "    }\n",
       "</style>\n",
       "<table border=\"1\" class=\"dataframe\">\n",
       "  <thead>\n",
       "    <tr style=\"text-align: right;\">\n",
       "      <th></th>\n",
       "      <th>wave.front</th>\n",
       "      <th>wave.center</th>\n",
       "      <th>wave.back</th>\n",
       "    </tr>\n",
       "  </thead>\n",
       "  <tbody>\n",
       "    <tr>\n",
       "      <th>count</th>\n",
       "      <td>7950.000000</td>\n",
       "      <td>7950.000000</td>\n",
       "      <td>7950.000000</td>\n",
       "    </tr>\n",
       "    <tr>\n",
       "      <th>mean</th>\n",
       "      <td>-0.070272</td>\n",
       "      <td>-0.124577</td>\n",
       "      <td>-0.120691</td>\n",
       "    </tr>\n",
       "    <tr>\n",
       "      <th>std</th>\n",
       "      <td>1.321669</td>\n",
       "      <td>1.438878</td>\n",
       "      <td>1.313419</td>\n",
       "    </tr>\n",
       "    <tr>\n",
       "      <th>min</th>\n",
       "      <td>-6.787000</td>\n",
       "      <td>-7.293587</td>\n",
       "      <td>-6.610968</td>\n",
       "    </tr>\n",
       "    <tr>\n",
       "      <th>25%</th>\n",
       "      <td>-0.193584</td>\n",
       "      <td>-0.269990</td>\n",
       "      <td>-0.264030</td>\n",
       "    </tr>\n",
       "    <tr>\n",
       "      <th>50%</th>\n",
       "      <td>-0.059232</td>\n",
       "      <td>-0.042427</td>\n",
       "      <td>-0.042681</td>\n",
       "    </tr>\n",
       "    <tr>\n",
       "      <th>75%</th>\n",
       "      <td>0.073423</td>\n",
       "      <td>0.038570</td>\n",
       "      <td>0.040864</td>\n",
       "    </tr>\n",
       "    <tr>\n",
       "      <th>max</th>\n",
       "      <td>7.745201</td>\n",
       "      <td>8.262465</td>\n",
       "      <td>8.137484</td>\n",
       "    </tr>\n",
       "  </tbody>\n",
       "</table>\n",
       "</div>"
      ],
      "text/plain": [
       "        wave.front  wave.center    wave.back\n",
       "count  7950.000000  7950.000000  7950.000000\n",
       "mean     -0.070272    -0.124577    -0.120691\n",
       "std       1.321669     1.438878     1.313419\n",
       "min      -6.787000    -7.293587    -6.610968\n",
       "25%      -0.193584    -0.269990    -0.264030\n",
       "50%      -0.059232    -0.042427    -0.042681\n",
       "75%       0.073423     0.038570     0.040864\n",
       "max       7.745201     8.262465     8.137484"
      ]
     },
     "execution_count": 35,
     "metadata": {},
     "output_type": "execute_result"
    }
   ],
   "source": [
    "#显示第1段数据相关数理统计信息\n",
    "case.data[0].describe()"
   ]
  },
  {
   "cell_type": "code",
   "execution_count": 36,
   "metadata": {
    "scrolled": true
   },
   "outputs": [
    {
     "data": {
      "text/plain": [
       "<matplotlib.axes._subplots.AxesSubplot at 0x21f1c535198>"
      ]
     },
     "execution_count": 36,
     "metadata": {},
     "output_type": "execute_result"
    },
    {
     "data": {
      "image/png": "[encoded data removed]",
      "text/plain": [
       "<Figure size 432x288 with 1 Axes>"
      ]
     },
     "metadata": {
      "needs_background": "light"
     },
     "output_type": "display_data"
    }
   ],
   "source": [
    "# 数据显示\n",
    "case.data[0].plot()"
   ]
  },
  {
   "cell_type": "code",
   "execution_count": 37,
   "metadata": {},
   "outputs": [
    {
     "data": {
      "text/plain": [
       "<matplotlib.axes._subplots.AxesSubplot at 0x21f1c471898>"
      ]
     },
     "execution_count": 37,
     "metadata": {},
     "output_type": "execute_result"
    },
    {
     "data": {
      "image/png": "[encoded data removed]",
      "text/plain": [
       "<Figure size 432x288 with 1 Axes>"
      ]
     },
     "metadata": {
      "needs_background": "light"
     },
     "output_type": "display_data"
    }
   ],
   "source": [
    "# 单独通道数据显示\n",
    "case.data[0]['wave.front'].plot()"
   ]
  },
  {
   "cell_type": "code",
   "execution_count": 38,
   "metadata": {},
   "outputs": [
    {
     "data": {
      "text/plain": [
       "array([-0.07404   , -0.052445  , -0.04319   , ...,  0.24433199,\n",
       "        0.23260899,  0.29184099])"
      ]
     },
     "execution_count": 38,
     "metadata": {},
     "output_type": "execute_result"
    }
   ],
   "source": [
    "# 单独通道的数据提取\n",
    "\n",
    "case.data[0]['wave.front'].values"
   ]
  },
  {
   "cell_type": "markdown",
   "metadata": {},
   "source": [
    "## 数据存储\n",
    "\n",
    "数据可以存储为.out格式，通过以下命令：\n",
    "\n",
    "```python\n",
    "case.write('test-1.out', sseg='all')\n",
    "```\n",
    "\n",
    "数据导出提供以下两个直接可以用的方法：\n",
    "\n",
    "1. `case.to_dat(header = True, time = True, sseg = 'all')` 默认导出所有段，或可导出指定段\n",
    "    - `header` 是否导出通道名和单位\n",
    "    - `time` 是否带时间项\n",
    "\n",
    "2. `case.to_mat(sseg = 0)` 这里请输入正整数，导出为包含该段所有信息的.mat文件\n",
    "\n",
    "以上两种方法，生成的文件均保存在运行文件目录下。\n",
    "\n",
    "除此之外，还可直接利用pandas函数导出特定段，特定通道数据，例如:\n",
    "\n",
    "```python\n",
    "case.data[0]['F.line1'].to_csv('sd1.dat') # 导出第0段F.line1到*.dat文件\n",
    "```\n",
    "\n",
    "这种情况下，可以转存数据到TXT，EXCEL，HTML...\n",
    "\n",
    "数据段信息也可导出或查看，提供以下直接可用的方法(可以打印到显示屏，TXT，EXCEL(下一版本会支持打印到粘贴版)):\n",
    "\n",
    "1. `case.pInfo(printTxt=False,printExcel=False)`打印段落信息\n",
    "2. `case.pChInfo(printTxt=False,printExcel=False)`打印通道信息\n",
    "3. `case.pst(printTxt=False,printExcel=False)`打印统计值信息\n"
   ]
  },
  {
   "cell_type": "code",
   "execution_count": 39,
   "metadata": {},
   "outputs": [
    {
     "name": "stdout",
     "output_type": "stream",
     "text": [
      "Export: C:\\Python\\pydas/test_seg00-model.dat\n",
      "Export: C:\\Python\\pydas/test\n"
     ]
    }
   ],
   "source": [
    "# 导出到*.dat\n",
    "case.to_dat(sseg = 0)\n",
    "\n",
    "# 导出到*.mat\n",
    "case.to_mat(sseg = 0)"
   ]
  },
  {
   "cell_type": "code",
   "execution_count": 40,
   "metadata": {},
   "outputs": [
    {
     "name": "stdout",
     "output_type": "stream",
     "text": [
      "--------------------------------------------------\n",
      "      Name     Unit    Coef  \n",
      "1   wave.front  cm   0.000617\n",
      "2  wave.center  cm   0.000771\n",
      "3    wave.back  cm   0.000908\n",
      "--------------------------------------------------\n"
     ]
    }
   ],
   "source": [
    "# 打印通道信息到屏幕\n",
    "\n",
    "case.pChInfo(printTxt = False, printExcel = False)"
   ]
  },
  {
   "cell_type": "markdown",
   "metadata": {},
   "source": [
    "## 实型值数据转换\n",
    "\n",
    "目前可以根据输入各个通道单位，实现实型值转换，步骤如下：\n",
    "\n",
    "1. 请检查读取单位是否有误，原out文件单位仅能占4个字节，故超过四个字节单位要修复，如deg/s2，kg.cm等\n",
    "\n",
    "    检查通道：`case.pChInfo()`\n",
    "    \n",
    "    检查是否已经转换：`case.scale`\n",
    "\n",
    "2. 修复单位，请用以下方法：`case.fix_unit(c_chN=['36','35'],unit=['kg.cm','kg.cm'])` #修改36，37通道单位为kg.cm\n",
    "    \n",
    "3. 转换数据到实型值：`case.to_fullscale()`\n",
    "\n",
    "注意，一经转换所有信息将变为实型值，以上提到的针对数据处理的方法均可用，通道转换可识别所有常用单位。"
   ]
  },
  {
   "cell_type": "code",
   "execution_count": 41,
   "metadata": {},
   "outputs": [],
   "source": [
    "case.fix_unit([1, 2], ['kg','kg'])"
   ]
  },
  {
   "cell_type": "code",
   "execution_count": 42,
   "metadata": {
    "scrolled": true
   },
   "outputs": [
    {
     "name": "stdout",
     "output_type": "stream",
     "text": [
      "--------------------------------------------------\n",
      "      Name     Unit    Coef  \n",
      "1   wave.front  kg   0.000617\n",
      "2  wave.center  kg   0.000771\n",
      "3    wave.back  cm   0.000908\n",
      "--------------------------------------------------\n"
     ]
    }
   ],
   "source": [
    "case.pChInfo()"
   ]
  },
  {
   "cell_type": "markdown",
   "metadata": {},
   "source": [
    "## 通道操作\n",
    "\n",
    "通道操作可以实现以下几个功能\n",
    "\n",
    "- 删除通道\n",
    "- 添加通道\n",
    "- 提取通道\n",
    "- 截取一定的长度 XXs 至 XXs\n",
    "- 更改通道名\n",
    "- 改变通道顺序\n"
   ]
  },
  {
   "cell_type": "code",
   "execution_count": 43,
   "metadata": {
    "scrolled": true
   },
   "outputs": [
    {
     "name": "stdout",
     "output_type": "stream",
     "text": [
      "wave.front has been removed\n"
     ]
    }
   ],
   "source": [
    "# 删除通道\n",
    "case.delCh('wave.front') #直接输入要删除的通道名"
   ]
  },
  {
   "cell_type": "code",
   "execution_count": 44,
   "metadata": {},
   "outputs": [
    {
     "name": "stdout",
     "output_type": "stream",
     "text": [
      "xxxhas been added\n"
     ]
    },
    {
     "data": {
      "text/html": [
       "<div>\n",
       "<style scoped>\n",
       "    .dataframe tbody tr th:only-of-type {\n",
       "        vertical-align: middle;\n",
       "    }\n",
       "\n",
       "    .dataframe tbody tr th {\n",
       "        vertical-align: top;\n",
       "    }\n",
       "\n",
       "    .dataframe thead th {\n",
       "        text-align: right;\n",
       "    }\n",
       "</style>\n",
       "<table border=\"1\" class=\"dataframe\">\n",
       "  <thead>\n",
       "    <tr style=\"text-align: right;\">\n",
       "      <th></th>\n",
       "      <th>wave.center</th>\n",
       "      <th>wave.back</th>\n",
       "      <th>xxx</th>\n",
       "    </tr>\n",
       "  </thead>\n",
       "  <tbody>\n",
       "    <tr>\n",
       "      <th>0</th>\n",
       "      <td>0.038570</td>\n",
       "      <td>-0.010897</td>\n",
       "      <td>0.0</td>\n",
       "    </tr>\n",
       "    <tr>\n",
       "      <th>1</th>\n",
       "      <td>0.053998</td>\n",
       "      <td>-0.016346</td>\n",
       "      <td>0.0</td>\n",
       "    </tr>\n",
       "    <tr>\n",
       "      <th>2</th>\n",
       "      <td>0.053998</td>\n",
       "      <td>0.003632</td>\n",
       "      <td>0.0</td>\n",
       "    </tr>\n",
       "    <tr>\n",
       "      <th>3</th>\n",
       "      <td>0.040113</td>\n",
       "      <td>0.021794</td>\n",
       "      <td>0.0</td>\n",
       "    </tr>\n",
       "    <tr>\n",
       "      <th>4</th>\n",
       "      <td>0.023913</td>\n",
       "      <td>0.044497</td>\n",
       "      <td>0.0</td>\n",
       "    </tr>\n",
       "    <tr>\n",
       "      <th>...</th>\n",
       "      <td>...</td>\n",
       "      <td>...</td>\n",
       "      <td>...</td>\n",
       "    </tr>\n",
       "    <tr>\n",
       "      <th>7945</th>\n",
       "      <td>-0.195164</td>\n",
       "      <td>-0.544860</td>\n",
       "      <td>0.0</td>\n",
       "    </tr>\n",
       "    <tr>\n",
       "      <th>7946</th>\n",
       "      <td>-0.211364</td>\n",
       "      <td>-0.542136</td>\n",
       "      <td>0.0</td>\n",
       "    </tr>\n",
       "    <tr>\n",
       "      <th>7947</th>\n",
       "      <td>-0.240677</td>\n",
       "      <td>-0.524882</td>\n",
       "      <td>0.0</td>\n",
       "    </tr>\n",
       "    <tr>\n",
       "      <th>7948</th>\n",
       "      <td>-0.263819</td>\n",
       "      <td>-0.510352</td>\n",
       "      <td>0.0</td>\n",
       "    </tr>\n",
       "    <tr>\n",
       "      <th>7949</th>\n",
       "      <td>-0.229106</td>\n",
       "      <td>-0.505812</td>\n",
       "      <td>0.0</td>\n",
       "    </tr>\n",
       "  </tbody>\n",
       "</table>\n",
       "<p>7950 rows × 3 columns</p>\n",
       "</div>"
      ],
      "text/plain": [
       "      wave.center  wave.back  xxx\n",
       "0        0.038570  -0.010897  0.0\n",
       "1        0.053998  -0.016346  0.0\n",
       "2        0.053998   0.003632  0.0\n",
       "3        0.040113   0.021794  0.0\n",
       "4        0.023913   0.044497  0.0\n",
       "...           ...        ...  ...\n",
       "7945    -0.195164  -0.544860  0.0\n",
       "7946    -0.211364  -0.542136  0.0\n",
       "7947    -0.240677  -0.524882  0.0\n",
       "7948    -0.263819  -0.510352  0.0\n",
       "7949    -0.229106  -0.505812  0.0\n",
       "\n",
       "[7950 rows x 3 columns]"
      ]
     },
     "execution_count": 44,
     "metadata": {},
     "output_type": "execute_result"
    }
   ],
   "source": [
    "# 删除通道 通道名，单位，数据（np.array格式）\n",
    "case.addCh('xxx', 'cm', np.zeros(case.data[0].shape[0]))\n",
    "case.data[0]"
   ]
  },
  {
   "cell_type": "code",
   "execution_count": 45,
   "metadata": {},
   "outputs": [
    {
     "data": {
      "text/html": [
       "<div>\n",
       "<style scoped>\n",
       "    .dataframe tbody tr th:only-of-type {\n",
       "        vertical-align: middle;\n",
       "    }\n",
       "\n",
       "    .dataframe tbody tr th {\n",
       "        vertical-align: top;\n",
       "    }\n",
       "\n",
       "    .dataframe thead th {\n",
       "        text-align: right;\n",
       "    }\n",
       "</style>\n",
       "<table border=\"1\" class=\"dataframe\">\n",
       "  <thead>\n",
       "    <tr style=\"text-align: right;\">\n",
       "      <th></th>\n",
       "      <th>wave.center</th>\n",
       "      <th>wave.back</th>\n",
       "    </tr>\n",
       "  </thead>\n",
       "  <tbody>\n",
       "    <tr>\n",
       "      <th>0</th>\n",
       "      <td>0.038570</td>\n",
       "      <td>-0.010897</td>\n",
       "    </tr>\n",
       "    <tr>\n",
       "      <th>1</th>\n",
       "      <td>0.053998</td>\n",
       "      <td>-0.016346</td>\n",
       "    </tr>\n",
       "    <tr>\n",
       "      <th>2</th>\n",
       "      <td>0.053998</td>\n",
       "      <td>0.003632</td>\n",
       "    </tr>\n",
       "    <tr>\n",
       "      <th>3</th>\n",
       "      <td>0.040113</td>\n",
       "      <td>0.021794</td>\n",
       "    </tr>\n",
       "    <tr>\n",
       "      <th>4</th>\n",
       "      <td>0.023913</td>\n",
       "      <td>0.044497</td>\n",
       "    </tr>\n",
       "    <tr>\n",
       "      <th>...</th>\n",
       "      <td>...</td>\n",
       "      <td>...</td>\n",
       "    </tr>\n",
       "    <tr>\n",
       "      <th>7945</th>\n",
       "      <td>-0.195164</td>\n",
       "      <td>-0.544860</td>\n",
       "    </tr>\n",
       "    <tr>\n",
       "      <th>7946</th>\n",
       "      <td>-0.211364</td>\n",
       "      <td>-0.542136</td>\n",
       "    </tr>\n",
       "    <tr>\n",
       "      <th>7947</th>\n",
       "      <td>-0.240677</td>\n",
       "      <td>-0.524882</td>\n",
       "    </tr>\n",
       "    <tr>\n",
       "      <th>7948</th>\n",
       "      <td>-0.263819</td>\n",
       "      <td>-0.510352</td>\n",
       "    </tr>\n",
       "    <tr>\n",
       "      <th>7949</th>\n",
       "      <td>-0.229106</td>\n",
       "      <td>-0.505812</td>\n",
       "    </tr>\n",
       "  </tbody>\n",
       "</table>\n",
       "<p>7950 rows × 2 columns</p>\n",
       "</div>"
      ],
      "text/plain": [
       "      wave.center  wave.back\n",
       "0        0.038570  -0.010897\n",
       "1        0.053998  -0.016346\n",
       "2        0.053998   0.003632\n",
       "3        0.040113   0.021794\n",
       "4        0.023913   0.044497\n",
       "...           ...        ...\n",
       "7945    -0.195164  -0.544860\n",
       "7946    -0.211364  -0.542136\n",
       "7947    -0.240677  -0.524882\n",
       "7948    -0.263819  -0.510352\n",
       "7949    -0.229106  -0.505812\n",
       "\n",
       "[7950 rows x 2 columns]"
      ]
     },
     "execution_count": 45,
     "metadata": {},
     "output_type": "execute_result"
    }
   ],
   "source": [
    "#提取通道 只保留相应的通道，删去其他\n",
    "case.pickCh(['wave.center', 'wave.back'])\n",
    "case.data[0]"
   ]
  },
  {
   "cell_type": "code",
   "execution_count": 46,
   "metadata": {},
   "outputs": [
    {
     "name": "stdout",
     "output_type": "stream",
     "text": [
      "Cut time series from 10.00s to 50.00s\n"
     ]
    },
    {
     "data": {
      "text/plain": [
       "<matplotlib.axes._subplots.AxesSubplot at 0x21f1d8edba8>"
      ]
     },
     "execution_count": 46,
     "metadata": {},
     "output_type": "execute_result"
    },
    {
     "data": {
      "image/png": "[encoded data removed]",
      "text/plain": [
       "<Figure size 432x288 with 1 Axes>"
      ]
     },
     "metadata": {
      "needs_background": "light"
     },
     "output_type": "display_data"
    }
   ],
   "source": [
    "#截取一定的通道长度 start, stop 单位为秒\n",
    "case.cutSeries(10,50)\n",
    "case.data[0].plot()"
   ]
  },
  {
   "cell_type": "code",
   "execution_count": 47,
   "metadata": {},
   "outputs": [],
   "source": [
    "#更改通道名称，请注意，不要与已有的通道名重复\n",
    "\n",
    "case.renameCh('wave.center','center') #(原有通道名，新通道名)\n"
   ]
  },
  {
   "cell_type": "code",
   "execution_count": 49,
   "metadata": {},
   "outputs": [
    {
     "name": "stdout",
     "output_type": "stream",
     "text": [
      "Changed the Channel order.\n"
     ]
    }
   ],
   "source": [
    "# 通道重新排序 请提供新的通道名顺序list\n",
    "case.changeChOder(['wave.back','center'])"
   ]
  },
  {
   "cell_type": "markdown",
   "metadata": {},
   "source": [
    "## 通道数据处理\n",
    "\n",
    "### 直接数据处理\n",
    "目前拥有常用的通道数据处理能力:\n",
    "\n",
    "- 低通滤波 `case.lowpassFilter(chName, cutoffull, replace, returnValue, sseg, order)`\n",
    "  - `chName` 通道名\n",
    "  - `cutoffull` 截止频率（rad/s，实型值）注意检查缩尺比 `case.lam`\n",
    "  - `replace = True` 是否替换原值（默认True）\n",
    "  - `returnValue = False` 是否输出低通替换的数据（默认False）\n",
    "  - `sseg = 0` 第几段数据（默认0）\n",
    "  - `order` 滤波阶数（默认6）\n",
    "- 高通滤波 `case.lowpassFilter(chName, chutoffull, replace, returnValue, sseg, order)`\n",
    "- 去除均值 `case.rmMean(chName, sseg = 0)`\n",
    "\n",
    "\n",
    "进一步的数据处理可以直接将数据提取出来，进行操作，再将其对原有通道进行替换,例如\n",
    "\n",
    "```python\n",
    "mean = case.data[0]['wave.front'].mean() #提取均值\n",
    "wavecase.highpassFilter('wave.front', cutoffull=0.2) # 用0.2rad/s进行高通滤波\n",
    "wavecase.data[0]['wave.front'] = wavecase.data[0]['wave.front'] + mean #再把均值加回去\n",
    "```"
   ]
  },
  {
   "cell_type": "markdown",
   "metadata": {},
   "source": [
    "### 读入校波数据并自动与摇板对齐\n",
    "```python\n",
    "case.read_waveCal(wavefname=waveName, waveChName=['YB.cal', 'Cal.wave'],  waveUnit = ['deg', 'cm'])\n",
    "```\n",
    "使用前，请确认原数据中摇板通道命名为YB\n",
    "- `waveName`：读入波浪数据的文件名，读入为带时间序列的.dat文件，\n",
    "- `waveChName`: 读入的校波数据的通道名，可以与摇板一起导入多个校波波浪通道\n",
    "- `waveUnit`: 读入通道的单位"
   ]
  },
  {
   "cell_type": "markdown",
   "metadata": {},
   "source": [
    "### 将运动数据与力等传感器的数据对齐\n",
    "\n",
    "现行的采集方法，无法保证运动数据与其他采集数据时间对齐，通过将运动Heave数据的二次微分结果与加速度求相关函数，将运动数据与其他采集数据时间对齐\n",
    "\n",
    "注意，请确认数据包含运动通道。\n",
    "\n",
    "```python\n",
    "case.motion_ccor(accChName)\n",
    "```\n",
    "\n",
    "- `accChName`: 用于对齐的加速度通道，请确认使用在平台中心位置的加速度传感器垂向通道"
   ]
  },
  {
   "cell_type": "markdown",
   "metadata": {},
   "source": [
    "### 高低频分离输出统计值Excel\n",
    "\n",
    "```python\n",
    "case.LHfreAnaly(sseg = 0, cutperiod = 24, Ncut = 10, pScreen = True, printExcel = True, printTxt = False)\n",
    "```\n",
    "- `sseg`: 第几段数据，默认0\n",
    "- `cutperiod`: 高低频分离的实型值周期，单位s，默认24s\n",
    "- `Ncut`: 前后截取一段，防止滤波问题，默认10\n",
    "- `pScreen`: 打印到屏幕\n",
    "- `printExcel`: 输出到Excel表格\n",
    "- `printTxt`: 输出到txt文档\n"
   ]
  },
  {
   "cell_type": "code",
   "execution_count": null,
   "metadata": {},
   "outputs": [],
   "source": []
  }
 ],
 "metadata": {
  "kernelspec": {
   "display_name": "Python 3",
   "language": "python",
   "name": "python3"
  },
  "language_info": {
   "codemirror_mode": {
    "name": "ipython",
    "version": 3
   },
   "file_extension": ".py",
   "mimetype": "text/x-python",
   "name": "python",
   "nbconvert_exporter": "python",
   "pygments_lexer": "ipython3",
   "version": "3.7.3"
  }
 },
 "nbformat": 4,
 "nbformat_minor": 2
}
